{
 "cells": [
  {
   "cell_type": "code",
   "execution_count": 19,
   "id": "07aa3602-0069-4288-beea-96202c1791a6",
   "metadata": {},
   "outputs": [],
   "source": [
    "import chromadb\n",
    "from chromadb.utils import embedding_functions\n",
    "import pandas as pd"
   ]
  },
  {
   "cell_type": "code",
   "execution_count": 20,
   "id": "09abcd1f",
   "metadata": {},
   "outputs": [
    {
     "name": "stdout",
     "output_type": "stream",
     "text": [
      "The dotenv extension is already loaded. To reload it, use:\n",
      "  %reload_ext dotenv\n"
     ]
    }
   ],
   "source": [
    "%load_ext dotenv\n",
    "%dotenv"
   ]
  },
  {
   "cell_type": "code",
   "execution_count": 21,
   "id": "16e64afe",
   "metadata": {},
   "outputs": [
    {
     "name": "stdout",
     "output_type": "stream",
     "text": [
      "   CWE-ID                                               Name  \\\n",
      "0       5  J2EE Misconfiguration: Data Transmission Witho...   \n",
      "1       6  J2EE Misconfiguration: Insufficient Session-ID...   \n",
      "2       7   J2EE Misconfiguration: Missing Custom Error Page   \n",
      "3       8  J2EE Misconfiguration: Entity Bean Declared Re...   \n",
      "4       9  J2EE Misconfiguration: Weak Access Permissions...   \n",
      "\n",
      "  Weakness Abstraction      Status  \\\n",
      "0              Variant       Draft   \n",
      "1              Variant  Incomplete   \n",
      "2              Variant  Incomplete   \n",
      "3              Variant  Incomplete   \n",
      "4              Variant       Draft   \n",
      "\n",
      "                                         Description  \\\n",
      "0  Information sent over a network can be comprom...   \n",
      "1  The J2EE application is configured to use an i...   \n",
      "2  The default error page of a web application sh...   \n",
      "3  When an application exposes a remote interface...   \n",
      "4  If elevated access rights are assigned to EJB ...   \n",
      "\n",
      "                                Extended Description  \\\n",
      "0                                                NaN   \n",
      "1  If an attacker can guess or steal a session ID...   \n",
      "2  A Web application must define a default error ...   \n",
      "3                                                NaN   \n",
      "4  If the EJB deployment descriptor contains one ...   \n",
      "\n",
      "                                  Related Weaknesses Weakness Ordinalities  \\\n",
      "0  ::NATURE:ChildOf:CWE ID:319:VIEW ID:1000:ORDIN...                   NaN   \n",
      "1  ::NATURE:ChildOf:CWE ID:334:VIEW ID:1000:ORDIN...                   NaN   \n",
      "2  ::NATURE:ChildOf:CWE ID:756:VIEW ID:1000:ORDIN...                   NaN   \n",
      "3  ::NATURE:ChildOf:CWE ID:668:VIEW ID:1000:ORDIN...                   NaN   \n",
      "4  ::NATURE:ChildOf:CWE ID:266:VIEW ID:1000:ORDIN...                   NaN   \n",
      "\n",
      "                                Applicable Platforms  \\\n",
      "0  ::LANGUAGE NAME:Java:LANGUAGE PREVALENCE:Undet...   \n",
      "1  ::LANGUAGE NAME:Java:LANGUAGE PREVALENCE:Undet...   \n",
      "2  ::LANGUAGE NAME:Java:LANGUAGE PREVALENCE:Undet...   \n",
      "3                                                NaN   \n",
      "4                                                NaN   \n",
      "\n",
      "                                  Background Details  ...  \\\n",
      "0                                                NaN  ...   \n",
      "1  ::Session ID's can be used to identify communi...  ...   \n",
      "2                                                NaN  ...   \n",
      "3                                                NaN  ...   \n",
      "4                                                NaN  ...   \n",
      "\n",
      "  Likelihood of Exploit                                Common Consequences  \\\n",
      "0                   NaN  ::SCOPE:Confidentiality:IMPACT:Read Applicatio...   \n",
      "1                   NaN  ::SCOPE:Access Control:IMPACT:Gain Privileges ...   \n",
      "2                   NaN  ::SCOPE:Confidentiality:IMPACT:Read Applicatio...   \n",
      "3                   NaN  ::SCOPE:Confidentiality:SCOPE:Integrity:IMPACT...   \n",
      "4                   NaN                       ::SCOPE:Other:IMPACT:Other::   \n",
      "\n",
      "   Detection Methods                              Potential Mitigations  \\\n",
      "0                NaN  ::PHASE:System Configuration:DESCRIPTION:The p...   \n",
      "1                NaN  ::PHASE:Implementation:DESCRIPTION:Session ide...   \n",
      "2                NaN  ::PHASE:Implementation:DESCRIPTION:Handle exce...   \n",
      "3                NaN  ::PHASE:Implementation:DESCRIPTION:Declare Jav...   \n",
      "4                NaN  ::PHASE:Architecture and Design System Configu...   \n",
      "\n",
      "  Observed Examples Functional Areas Affected Resources  \\\n",
      "0               NaN              NaN                NaN   \n",
      "1               NaN              NaN                NaN   \n",
      "2               NaN              NaN                NaN   \n",
      "3               NaN              NaN                NaN   \n",
      "4               NaN              NaN                NaN   \n",
      "\n",
      "                                   Taxonomy Mappings Related Attack Patterns  \\\n",
      "0  ::TAXONOMY NAME:7 Pernicious Kingdoms:ENTRY NA...                     NaN   \n",
      "1  ::TAXONOMY NAME:7 Pernicious Kingdoms:ENTRY NA...              ::21::59::   \n",
      "2  ::TAXONOMY NAME:7 Pernicious Kingdoms:ENTRY NA...                     NaN   \n",
      "3  ::TAXONOMY NAME:7 Pernicious Kingdoms:ENTRY NA...                     NaN   \n",
      "4  ::TAXONOMY NAME:7 Pernicious Kingdoms:ENTRY NA...                     NaN   \n",
      "\n",
      "                                               Notes  \n",
      "0  ::TYPE:Other:NOTE:If an application uses SSL t...  \n",
      "1                                                NaN  \n",
      "2                                                NaN  \n",
      "3  ::TYPE:Other:NOTE:Entity beans that expose a r...  \n",
      "4                                                NaN  \n",
      "\n",
      "[5 rows x 23 columns]\n"
     ]
    }
   ],
   "source": [
    "cwe_df = pd.read_csv('data/all.csv')\n",
    "print(cwe_df.head())"
   ]
  },
  {
   "cell_type": "code",
   "execution_count": 24,
   "id": "54e8e0ec",
   "metadata": {},
   "outputs": [
    {
     "name": "stdout",
     "output_type": "stream",
     "text": [
      "Selected 1000 files for analysis.\n",
      "Selected 927 GHSAs for analysis\n",
      "                    id                                            summary  \\\n",
      "0  GHSA-4jrx-5w4h-3gpm        Navidrome Parameter Tampering vulnerability   \n",
      "1  GHSA-4363-x42f-xph6              Malicious Package in hw-trnasport-u2f   \n",
      "2  GHSA-cxmj-qjv6-vx9p         mcstatic directory traversal vulnerability   \n",
      "3  GHSA-xp26-p53h-6h2p  Improper Neutralization of Input During Web Pa...   \n",
      "4  GHSA-8vj9-5v5q-fhch          Bonita cross-site scripting vulnerability   \n",
      "\n",
      "                                             details cwe_ids  \n",
      "0  ### Summary\\nParameter tampering is a vulnerab...     200  \n",
      "1  All versions of this package contained malware...     506  \n",
      "2  A server directory traversal vulnerability was...      22  \n",
      "3  An issue was discovered in lxml before 4.2.5. ...      79  \n",
      "4  Bonita before 10.1.0.W11 allows stored XSS via...      79  \n"
     ]
    }
   ],
   "source": [
    "import json\n",
    "import glob\n",
    "import random\n",
    "\n",
    "# Now, let's select 1000 random GHSA-*.json files as a sample test set from data/advisories/github-reviewed\n",
    "files = glob.glob('data/advisories/github-reviewed/*/*/*/*.json', recursive=True)\n",
    "\n",
    "sample_files = random.sample(files, 1000)\n",
    "\n",
    "# Some of these files contain a \"Rejected reason\" in their details, which make them unsuitable for our analysis.\n",
    "# We will filter out those files.\n",
    "sample_files = [file for file in sample_files if 'Rejected reason' not in open(file, 'r').read()]\n",
    "\n",
    "print(f\"Selected {len(sample_files)} files for analysis.\")\n",
    "\n",
    "# Lets generate a DataFrame by reading each file, extracting the \"summary\", \"details\", and \"database_specific.cwe_ids\" fields, and normalizing it\n",
    "data = []\n",
    "for file in sample_files:\n",
    "    with open(file, 'r') as f:\n",
    "        content = json.load(f)\n",
    "        id = content.get('id', '')\n",
    "        summary = content.get('summary', '')\n",
    "        details = content.get('details', '')\n",
    "        cwe_ids = content.get('database_specific', {}).get('cwe_ids', [])\n",
    "        # Normalize cwe_ids to a comma-separated string, and strip out the prefix \"CWE-\"\n",
    "        cwe_ids = ','.join([cwe_id.replace('CWE-', '') for cwe_id in cwe_ids])\n",
    "        if len(cwe_ids) == 0:\n",
    "            continue\n",
    "        data.append({\n",
    "            'id': id,\n",
    "            'summary': summary,\n",
    "            'details': details,\n",
    "            'cwe_ids': cwe_ids\n",
    "        })\n",
    "\n",
    "print(f\"Selected {len(data)} GHSAs for analysis\")\n",
    "sample_df = pd.DataFrame(data)\n",
    "print(sample_df.head())"
   ]
  },
  {
   "cell_type": "code",
   "execution_count": 11,
   "id": "a8bf4eff",
   "metadata": {},
   "outputs": [
    {
     "name": "stdout",
     "output_type": "stream",
     "text": [
      "Total number of tokens in text blob: 100979\n"
     ]
    }
   ],
   "source": [
    "# Let's see how many tokens we have in all of the text\n",
    "# If its small enough, we can just add it to the context as part of the prompt\n",
    "# First, lets turn all of IDs, Descriptions, and Extended Descriptions into one text blob\n",
    "cwe_text_blob = \"\"\n",
    "for i, row in cwe_df.iterrows():\n",
    "    cwe_text_blob += str(row['CWE-ID']) + \",\" + str(row['Description']) + \",\" + str(row['Extended Description']) + \"\\n\"\n",
    "\n",
    "import tiktoken\n",
    "encoding = tiktoken.get_encoding(\"cl100k_base\")\n",
    "tokens = encoding.encode(cwe_text_blob)\n",
    "print(f\"Total number of tokens in text blob: {len(tokens)}\")"
   ]
  },
  {
   "cell_type": "markdown",
   "id": "12b65109-9ecd-429b-bf69-fbf443e44647",
   "metadata": {},
   "source": [
    "That's quite a lot of tokens! So we can't just yeet everything into the prompt. We should do some preprocessing before we use it in the prompt."
   ]
  },
  {
   "cell_type": "markdown",
   "id": "bba5bbc0-5744-4b0b-9ff1-d5a043919d94",
   "metadata": {},
   "source": [
    "# Helper Methods"
   ]
  },
  {
   "cell_type": "code",
   "execution_count": 25,
   "id": "77107865",
   "metadata": {},
   "outputs": [],
   "source": [
    "# Some helper functions for everything\n",
    "def generate_input_blob(row):\n",
    "    return row['summary'] + \"\\n\" + row['details']"
   ]
  },
  {
   "cell_type": "code",
   "execution_count": 56,
   "id": "8dea4b4d",
   "metadata": {},
   "outputs": [],
   "source": [
    "from openai import OpenAI\n",
    "import os\n",
    "\n",
    "token = os.environ[\"GITHUB_TOKEN\"]\n",
    "endpoint = \"https://models.github.ai/inference\"\n",
    "model = \"openai/gpt-4.1\"\n",
    "client = OpenAI(\n",
    "    base_url=endpoint,\n",
    "    api_key=token,\n",
    ")\n",
    "\n",
    "def query_model(prompt, input_text, model=model, temperature=0.7):\n",
    "    response = client.chat.completions.create(\n",
    "        messages=[\n",
    "            {\n",
    "                \"role\": \"system\",\n",
    "                \"content\": prompt,\n",
    "            },\n",
    "            {\n",
    "                \"role\": \"user\",\n",
    "                \"content\": input_text,\n",
    "            }\n",
    "        ],\n",
    "        temperature=temperature,\n",
    "        top_p=1.0,\n",
    "        model=model\n",
    "    )\n",
    "    return response.choices[0].message.content.strip()"
   ]
  },
  {
   "cell_type": "code",
   "execution_count": 52,
   "id": "070382b1-e6dc-448b-8043-854d6c0e449b",
   "metadata": {},
   "outputs": [],
   "source": [
    "def test_accuracy(predictor, test_df, samples):\n",
    "    sample_df = test_df.sample(n=samples)\n",
    "    accurate = 0\n",
    "    for idx, row in sample_df.iterrows():\n",
    "        input_blob = generate_input_blob(row)\n",
    "        expected_cwe_ids = row['cwe_ids'].split(',') if row['cwe_ids'] else []\n",
    "        actual_cwe_id = predictor(input_blob)\n",
    "        if actual_cwe_id in expected_cwe_ids:\n",
    "            accurate += 1\n",
    "    return accurate"
   ]
  },
  {
   "cell_type": "markdown",
   "id": "42d29d00",
   "metadata": {},
   "source": [
    "## Embeddings Search Approach"
   ]
  },
  {
   "cell_type": "code",
   "execution_count": 31,
   "id": "b7cba2fc",
   "metadata": {},
   "outputs": [],
   "source": [
    "client = chromadb.Client()\n",
    "# Use OpenAI embedding function from chromadb\n",
    "openai_ef = embedding_functions.DefaultEmbeddingFunction()\n",
    "collection = client.get_or_create_collection(name=\"cwe_index\")\n",
    "\n",
    "# Prepare the text data: concatenate Description and Extended Description\n",
    "texts = (\n",
    "    cwe_df['Description'].fillna('') + \" \" + cwe_df['Extended Description'].fillna('')\n",
    ").tolist()\n",
    "metadatas = (\n",
    "    cwe_df[['CWE-ID', 'Name']].fillna('').to_dict(orient='records')\n",
    ")\n",
    "\n",
    "# Generate embeddings\n",
    "embeddings = openai_ef(texts)\n",
    "collection.add(\n",
    "    documents=texts,\n",
    "    embeddings=embeddings,\n",
    "    metadatas=metadatas,\n",
    "    ids=cwe_df['CWE-ID'].astype(str).tolist()  # Use CWE-ID as the unique identifier\n",
    ")"
   ]
  },
  {
   "cell_type": "code",
   "execution_count": 55,
   "id": "13d1ccfc",
   "metadata": {},
   "outputs": [
    {
     "name": "stdout",
     "output_type": "stream",
     "text": [
      "Accuracy: 185/927 = 19.96%\n"
     ]
    }
   ],
   "source": [
    "# Now, for each sample in the sample_df, we will find the most similar CWE entry.\n",
    "# We will then compare the cwe_ids from the sample_df with the cwe_ids from the most similar CWE entry.\n",
    "def embedding_search_predictor(input_text):\n",
    "    query_result = collection.query(\n",
    "        query_texts=[input_text],\n",
    "        n_results=1,\n",
    "        include=[\"documents\", \"metadatas\"]\n",
    "    )\n",
    "    return query_result['ids'][0][0] if query_result['ids'] else None\n",
    "\n",
    "total_samples = len(sample_df)\n",
    "accurate = test_accuracy(embedding_search_predictor, sample_df, total_samples)\n",
    "print(f\"Accuracy: {accurate}/{total_samples} = {accurate / total_samples:.2%}\")"
   ]
  },
  {
   "cell_type": "markdown",
   "id": "a8c0d1ad",
   "metadata": {},
   "source": [
    "## Zero-shot Prompting"
   ]
  },
  {
   "cell_type": "code",
   "execution_count": 78,
   "id": "b41a818b",
   "metadata": {},
   "outputs": [
    {
     "name": "stdout",
     "output_type": "stream",
     "text": [
      "Accuracy: 13/20 = 65.00%\n"
     ]
    }
   ],
   "source": [
    "def zero_shot_classification(input_text):\n",
    "    prompt = (\n",
    "        \"You are an expert in CWE classification. \"\n",
    "        \"Given a summary and details of a vulnerability, classify it into one or more CWE categories. \"\n",
    "        \"Return only the numerical ID of the CWE.\"\n",
    "        \"If you cannot classify it, return 'None'. \"\n",
    "        \"The input will be in the format: 'Summary: <summary> Details: <details>'.\"\n",
    "    )\n",
    "    return query_model(prompt, input_text)\n",
    "\n",
    "total_samples = 20\n",
    "accurate = test_accuracy(zero_shot_classification, sample_df, total_samples)\n",
    "print(f\"Accuracy: {accurate}/{total_samples} = {accurate / total_samples:.2%}\")"
   ]
  },
  {
   "cell_type": "markdown",
   "id": "9db9f415",
   "metadata": {},
   "source": [
    "## Prompting then Cosine Similarity"
   ]
  },
  {
   "cell_type": "code",
   "execution_count": 65,
   "id": "5e994bcc",
   "metadata": {},
   "outputs": [
    {
     "name": "stdout",
     "output_type": "stream",
     "text": [
      "Accuracy: 5/10 = 50.00%\n"
     ]
    }
   ],
   "source": [
    "# Let's try cleaning up the text blobs with an LLM first, and then feeding it into the embedding function. Maybe this way we can reduce the number of tokens used.\n",
    "\n",
    "def zero_shot_classification_with_cosine_similarity(input_text):\n",
    "    \"\"\"Use the AI model to predict the classification of the given text.\"\"\"\n",
    "    system_prompt = \"\"\"You are a vulnerability analyst who works to classify vulnerabilities. Given the following vulnerability description, output the name of the most likely classification for the vulnerability, in a format similar to the CWE classifications. For example:\n",
    "\n",
    "Permissive Regular Expression\n",
    "Uncontrolled Resource Consumption\n",
    "Server-Side Request Forgery (SSRF)\n",
    "Reusing a Nonce, Key Pair in Encryption\n",
    "Return only the title of the classification.\"\"\"\n",
    "    predicted_classification = query_model(system_prompt, input_text)\n",
    "\n",
    "    query_result = collection.query(\n",
    "        query_texts=[predicted_classification],\n",
    "        n_results=1,\n",
    "        include=[\"documents\", \"metadatas\"]\n",
    "    )\n",
    "    return query_result['ids'][0][0]\n",
    "\n",
    "total_samples = 10\n",
    "accurate = test_accuracy(zero_shot_classification_with_cosine_similarity, sample_df, total_samples)\n",
    "print(f\"Accuracy: {accurate}/{total_samples} = {accurate / total_samples:.2%}\")"
   ]
  },
  {
   "cell_type": "markdown",
   "id": "db01d960",
   "metadata": {},
   "source": [
    "## Hierarchical Multi Step Prompting\n",
    "\n",
    "CWEs are structured in a hierarchy, so we can use that to our advantage. We can first prompt for the CWE category, then the specific CWE within that category, and so on until we reach the specific CWE. This way, we can reduce the number of tokens in each prompt, use a smaller model, and still get good results."
   ]
  },
  {
   "cell_type": "code",
   "execution_count": 72,
   "id": "3a7075fe",
   "metadata": {},
   "outputs": [
    {
     "name": "stdout",
     "output_type": "stream",
     "text": [
      "10 root nodes found in the CWE tree.\n",
      "['707', '664', '682', '693', '697', '435', '703', '284', '691', '710']\n"
     ]
    }
   ],
   "source": [
    "class CWENode:\n",
    "    def __init__(self, cwe_id, name):\n",
    "        self.cwe_id = cwe_id\n",
    "        self.name = name\n",
    "        self.description = \"\"\n",
    "        self.extended_description = \"\"\n",
    "        self.children = []\n",
    "\n",
    "def load_cwe_tree(file_path):\n",
    "    with open(file_path, 'r') as file:\n",
    "        cwe_tree_json = json.load(file)\n",
    "    \n",
    "    # Now we need to turn this adjacency list into a tree structure\n",
    "    # The structure of this tree is a dictionary where each key is a CWE ID and the value is a list of child CWE IDs\n",
    "    # cwe_tree_json is expected to be a dict: {<cwe_id>: [<children_cwe_ids, ...], ...}\n",
    "    # The name, description, and extended description are not included in the JSON, so we will need to fetch them from the cwe_df DataFrame.\n",
    "    # Create all nodes first\n",
    "    nodes = {}\n",
    "    for cwe_id in cwe_tree_json.keys():\n",
    "        # Fetch name, description, and extended description from cwe_df\n",
    "        cwe_row = cwe_df[cwe_df['CWE-ID'].astype(str) == str(cwe_id)]\n",
    "        name = cwe_row['Name'].values[0] if not cwe_row.empty else \"\"\n",
    "        node = CWENode(cwe_id, name)\n",
    "        node.description = cwe_row['Description'].values[0] if not cwe_row.empty else \"\"\n",
    "        node.extended_description = cwe_row['Extended Description'].values[0] if not cwe_row.empty else \"\"\n",
    "        nodes[cwe_id] = node\n",
    "\n",
    "    # Link children\n",
    "    for parent_id, children_ids in cwe_tree_json.items():\n",
    "        parent_node = nodes[parent_id]\n",
    "        for child_id in children_ids:\n",
    "            if child_id in nodes:\n",
    "                parent_node.children.append(nodes[child_id])\n",
    "\n",
    "    # Find root nodes (those not referenced as children)\n",
    "    all_children = {child_id for children in cwe_tree_json.values() for child_id in children}\n",
    "    root_ids = [cwe_id for cwe_id in cwe_tree_json.keys() if cwe_id not in all_children]\n",
    "    roots = [nodes[cwe_id] for cwe_id in root_ids]\n",
    "    return roots\n",
    "    \n",
    "cwe_tree = load_cwe_tree('data/cwe_tree.json')\n",
    "print(len(cwe_tree), \"root nodes found in the CWE tree.\")"
   ]
  },
  {
   "cell_type": "code",
   "execution_count": 73,
   "id": "205433f5",
   "metadata": {},
   "outputs": [],
   "source": [
    "# The system prompt for the AI model to classify vulnerabilities based on CWE nodes\n",
    "def generate_hierarchical_system_prompt(cwe_node):\n",
    "    hierarchical_system_prompt = \"\"\"You are a vulnerability analyst who works to classify vulnerabilities. Given the following vulnerability descriptions, output the name of the most likely classification for the vulnerability, out of the following categories:\n",
    "\"\"\"\n",
    "    hierarchical_system_prompt += f\"\\n{cwe_node.cwe_id} - {cwe_node.name}\\n {cwe_node.description}\\n---\\n\"\n",
    "    for child in cwe_node.children:\n",
    "        hierarchical_system_prompt += f\"{child.cwe_id} - {child.name}\\n {child.description}\\n---\\n\"\n",
    "\n",
    "    hierarchical_system_prompt += \"\"\"Return only the numerical ID of the classification, do not return any other text.\"\"\"\n",
    "    return hierarchical_system_prompt"
   ]
  },
  {
   "cell_type": "code",
   "execution_count": 77,
   "id": "f256bd2a",
   "metadata": {},
   "outputs": [
    {
     "name": "stdout",
     "output_type": "stream",
     "text": [
      "Accuracy: 2/10 = 20.00%\n"
     ]
    }
   ],
   "source": [
    "def hierarchical_system_prompting(input_text):\n",
    "    # Let's create a new root node for the CWE tree, so we can run a for loop over the root nodes\n",
    "    # We only care about software development ones, so let's start from 1000\n",
    "    cwe_root_node = CWENode(\"CWE-1000\", \"Root CWE Node, DO NOT USE for classification\")\n",
    "    cwe_root_node.children = cwe_tree\n",
    "\n",
    "    curr_node = cwe_root_node\n",
    "    while True:\n",
    "        if len(curr_node.children) == 0:\n",
    "            return curr_node.cwe_id\n",
    "\n",
    "        hierarchical_prompt = generate_hierarchical_system_prompt(curr_node)\n",
    "        predicted_classification = query_model(hierarchical_prompt, input_text, model=\"openai/gpt-4.1-mini\", temperature=0.95)\n",
    "\n",
    "        # Check that the predicted classification is a valid integer\n",
    "        try:\n",
    "            int(predicted_classification)\n",
    "        except ValueError:\n",
    "            return curr_node.cwe_id\n",
    "\n",
    "        # Check if the predicted classification is the same as the current node's CWE ID\n",
    "        if predicted_classification == curr_node.cwe_id:\n",
    "            return curr_node.cwe_id\n",
    "\n",
    "        # If not, check if the predicted classification is one of the children\n",
    "        for child in curr_node.children:\n",
    "            if predicted_classification == child.cwe_id:\n",
    "                curr_node = child\n",
    "                break\n",
    "        else:\n",
    "            return curr_node.cwe_id\n",
    "\n",
    "total_samples = 10\n",
    "accurate = test_accuracy(hierarchical_system_prompting, sample_df, total_samples)\n",
    "print(f\"Accuracy: {accurate}/{total_samples} = {accurate / total_samples:.2%}\")"
   ]
  }
 ],
 "metadata": {
  "kernelspec": {
   "display_name": "Python 3 (ipykernel)",
   "language": "python",
   "name": "python3"
  },
  "language_info": {
   "codemirror_mode": {
    "name": "ipython",
    "version": 3
   },
   "file_extension": ".py",
   "mimetype": "text/x-python",
   "name": "python",
   "nbconvert_exporter": "python",
   "pygments_lexer": "ipython3",
   "version": "3.13.5"
  }
 },
 "nbformat": 4,
 "nbformat_minor": 5
}
