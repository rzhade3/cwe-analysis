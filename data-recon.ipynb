{
 "cells": [
  {
   "cell_type": "code",
   "execution_count": 4,
   "id": "07aa3602-0069-4288-beea-96202c1791a6",
   "metadata": {},
   "outputs": [],
   "source": [
    "import json\n",
    "import os\n",
    "\n",
    "import numpy as np\n",
    "import matplotlib.pyplot as plt"
   ]
  },
  {
   "cell_type": "code",
   "execution_count": 5,
   "id": "723da49e",
   "metadata": {},
   "outputs": [
    {
     "name": "stdout",
     "output_type": "stream",
     "text": [
      "Verified: 20375\n",
      "Community: 231666\n",
      "Total: 252041\n"
     ]
    }
   ],
   "source": [
    "# Lets count how much data we have!\n",
    "verified_directory = 'data/advisories/github-reviewed'\n",
    "community_directory = 'data/advisories/unreviewed'\n",
    "\n",
    "verified_count = 0\n",
    "community_count = 0\n",
    "for root, dirs, files in os.walk(verified_directory):\n",
    "    verified_count += len(files)\n",
    "for root, dirs, files in os.walk(community_directory):\n",
    "    community_count += len(files)\n",
    "\n",
    "print(f\"Verified: {verified_count}\")\n",
    "print(f\"Community: {community_count}\")\n",
    "print(f\"Total: {verified_count + community_count}\")"
   ]
  },
  {
   "cell_type": "code",
   "execution_count": 158,
   "id": "2fba14f1-64eb-4b2b-a7ce-d63b2603bf92",
   "metadata": {},
   "outputs": [],
   "source": [
    "def load_cwes(directory):\n",
    "    cwes = []\n",
    "    for root, dirs, files in os.walk(directory):\n",
    "        for file in files:\n",
    "            # If the file is a JSON, then we want to print the path\n",
    "            if not file.endswith('.json'):\n",
    "                continue\n",
    "            with open(os.path.join(root, file), 'r') as f:\n",
    "                data = json.load(f)\n",
    "                cwes += data['database_specific']['cwe_ids']\n",
    "    for i in range(len(cwes)):\n",
    "        cwes[i] = cwes[i].replace('CWE-', '')\n",
    "    return cwes\n",
    "\n",
    "cwes = load_cwes(verified_directory)\n",
    "# Do some preprocessing to strip the `CWE-` prefix"
   ]
  },
  {
   "cell_type": "code",
   "execution_count": 159,
   "id": "aaad17a9",
   "metadata": {},
   "outputs": [
    {
     "name": "stdout",
     "output_type": "stream",
     "text": [
      "438\n",
      "Maximum count of labels:  3280\n"
     ]
    },
    {
     "data": {
      "text/plain": [
       "[<matplotlib.lines.Line2D at 0x12dedeab0>]"
      ]
     },
     "execution_count": 159,
     "metadata": {},
     "output_type": "execute_result"
    },
    {
     "data": {
      "image/png": "[encoded data removed]",
      "text/plain": [
       "<Figure size 640x480 with 1 Axes>"
      ]
     },
     "metadata": {},
     "output_type": "display_data"
    }
   ],
   "source": [
    "cwes_np = np.array(cwes)\n",
    "unique, counts = np.unique(cwes_np, return_counts=True)\n",
    "print(len(unique))\n",
    "print(\"Maximum count of labels: \", max(counts))\n",
    "plt.plot(unique, counts)"
   ]
  },
  {
   "cell_type": "code",
   "execution_count": 160,
   "id": "ae14a8cb",
   "metadata": {},
   "outputs": [],
   "source": [
    "# Let's load in the trie to see how the hierarchy breaks down\n",
    "with open(\"data/cwe_tree.json\", 'r') as f:\n",
    "    cwe_tree = json.load(f)"
   ]
  },
  {
   "cell_type": "code",
   "execution_count": 167,
   "id": "509d5905",
   "metadata": {},
   "outputs": [],
   "source": [
    "# Let's build a Tree structure so we can properly do data classification\n",
    "class TreeNode:\n",
    "    def __init__(self, id: int, parents: list = []):\n",
    "        self.id = id\n",
    "        self.parents = parents\n",
    "        self.count = 0\n",
    "\n",
    "def generate_cwe_tree_dict():\n",
    "    cwe_tree_dict = {}\n",
    "    for parent, children in cwe_tree.items():\n",
    "        for child in children:\n",
    "            if child in cwe_tree_dict:\n",
    "                cwe_tree_dict[child].parents.append(parent)\n",
    "            else:\n",
    "                cwe_tree_dict[child] = TreeNode(child, [parent])\n",
    "            if parent not in cwe_tree_dict:\n",
    "                cwe_tree_dict[parent] = TreeNode(parent, [])\n",
    "    return cwe_tree_dict"
   ]
  },
  {
   "cell_type": "code",
   "execution_count": 168,
   "id": "5fc57cf9",
   "metadata": {},
   "outputs": [
    {
     "name": "stdout",
     "output_type": "stream",
     "text": [
      "85\n"
     ]
    }
   ],
   "source": [
    "# Let's propagate the counts upwards so we can get an accurate idea of how the hierarchies break down\n",
    "# Let's also note that because a child can have multiple parents, there is a possibility of double counting. This is OK, as this would map to multiple labels being produced when we do the topic classification\n",
    "\n",
    "def propagate_cwes_up_tree(cwe_list):\n",
    "    cwe_tree_dict = generate_cwe_tree_dict()\n",
    "    for i in cwe_list:\n",
    "        parent_queue = [str(i)]\n",
    "        parent_queue_idx = 0\n",
    "        while parent_queue_idx < len(parent_queue):\n",
    "            node = parent_queue[parent_queue_idx]\n",
    "            parent_queue_idx += 1\n",
    "            if node not in cwe_tree_dict:\n",
    "                continue\n",
    "            curr_parents = cwe_tree_dict[node].parents\n",
    "            for j in curr_parents:\n",
    "                if j not in parent_queue:\n",
    "                    parent_queue.append(j)\n",
    "            cwe_tree_dict[node].count += 1\n",
    "    return cwe_tree_dict\n",
    "\n",
    "cwe_tree_dict = propagate_cwes_up_tree(cwes)\n",
    "print(cwe_tree_dict['319'].count)"
   ]
  },
  {
   "cell_type": "code",
   "execution_count": 169,
   "id": "8cfe2108",
   "metadata": {},
   "outputs": [
    {
     "name": "stdout",
     "output_type": "stream",
     "text": [
      "707 8031\n",
      "664 9487\n",
      "682 220\n",
      "693 1862\n",
      "697 89\n",
      "435 153\n",
      "703 498\n",
      "284 3394\n",
      "691 661\n",
      "710 735\n"
     ]
    }
   ],
   "source": [
    "# How does the count break down at the root level?\n",
    "first_level = []\n",
    "for i in cwe_tree_dict.values():\n",
    "    if len(i.parents) == 0:\n",
    "        first_level.append(i.id)\n",
    "\n",
    "for i in first_level:\n",
    "    print(i, cwe_tree_dict[i].count)"
   ]
  },
  {
   "cell_type": "markdown",
   "id": "35140b07",
   "metadata": {},
   "source": [
    "# Unverified Advisories"
   ]
  },
  {
   "cell_type": "code",
   "execution_count": 164,
   "id": "69242a8c",
   "metadata": {},
   "outputs": [],
   "source": [
    "# This is going to take a minute, but let's check out the unreviewed data\n",
    "unverified_cwes = load_cwes(community_directory)"
   ]
  },
  {
   "cell_type": "code",
   "execution_count": 166,
   "id": "8739771c",
   "metadata": {},
   "outputs": [
    {
     "name": "stdout",
     "output_type": "stream",
     "text": [
      "570\n",
      "Maximum count of labels:  25258\n"
     ]
    },
    {
     "data": {
      "text/plain": [
       "[<matplotlib.lines.Line2D at 0x12fc96ab0>]"
      ]
     },
     "execution_count": 166,
     "metadata": {},
     "output_type": "execute_result"
    },
    {
     "data": {
      "image/png": "[encoded data removed]",
      "text/plain": [
       "<Figure size 640x480 with 1 Axes>"
      ]
     },
     "metadata": {},
     "output_type": "display_data"
    }
   ],
   "source": [
    "cwes_np = np.array(unverified_cwes)\n",
    "unique, counts = np.unique(cwes_np, return_counts=True)\n",
    "print(len(unique))\n",
    "print(\"Maximum count of labels: \", max(counts))\n",
    "plt.plot(unique, counts)"
   ]
  },
  {
   "cell_type": "code",
   "execution_count": 173,
   "id": "93e7b74c",
   "metadata": {},
   "outputs": [
    {
     "name": "stdout",
     "output_type": "stream",
     "text": [
      "707 96169\n",
      "664 73717\n",
      "682 2734\n",
      "693 10387\n",
      "697 133\n",
      "435 206\n",
      "703 3813\n",
      "284 21234\n",
      "691 3314\n",
      "710 4895\n"
     ]
    }
   ],
   "source": [
    "unverified_cwe_tree_dict = propagate_cwes_up_tree(unverified_cwes)\n",
    "\n",
    "# How does the count break down at the root level?\n",
    "first_level = []\n",
    "for i in unverified_cwe_tree_dict.values():\n",
    "    if len(i.parents) == 0:\n",
    "        first_level.append(i.id)\n",
    "\n",
    "for i in first_level:\n",
    "    print(i, unverified_cwe_tree_dict[i].count)"
   ]
  }
 ],
 "metadata": {
  "kernelspec": {
   "display_name": "Python 3 (ipykernel)",
   "language": "python",
   "name": "python3"
  }
 },
 "nbformat": 4,
 "nbformat_minor": 5
}
